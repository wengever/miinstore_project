{
  "cells": [
    {
      "cell_type": "markdown",
      "metadata": {
        "id": "9DEMFiZvNOuA"
      },
      "source": [
        "# Packages"
      ]
    },
    {
      "cell_type": "code",
      "execution_count": null,
      "metadata": {
        "id": "HdXLQknuNOuB"
      },
      "outputs": [],
      "source": [
        "import pandas as pd\n",
        "import os\n",
        "import numpy as np\n",
        "import os\n",
        "import h5py\n",
        "import torch\n",
        "import seaborn as sns\n",
        "from tqdm import tqdm\n",
        "import torch.nn as nn\n",
        "import torch.nn.functional as F\n",
        "import torch.optim as optim\n",
        "from torch.utils.data import Dataset, DataLoader, random_split\n",
        "import torchvision.transforms.functional as TF\n",
        "from sklearn.metrics import f1_score,confusion_matrix\n",
        "import matplotlib.pyplot as plt"
      ]
    },
    {
      "cell_type": "markdown",
      "metadata": {
        "id": "FwRiXP12NOuC"
      },
      "source": [
        "# Config"
      ]
    },
    {
      "cell_type": "code",
      "execution_count": null,
      "metadata": {
        "colab": {
          "base_uri": "https://localhost:8080/"
        },
        "id": "wcFH64clNus3",
        "outputId": "610fa597-167c-4833-a299-dc5dcc4c5676"
      },
      "outputs": [
        {
          "output_type": "stream",
          "name": "stdout",
          "text": [
            "Drive already mounted at /content/gdrive; to attempt to forcibly remount, call drive.mount(\"/content/gdrive\", force_remount=True).\n"
          ]
        }
      ],
      "source": [
        "from google.colab import drive\n",
        "drive.mount('/content/gdrive')\n",
        "model_path = './gdrive/MyDrive/Colab Notebooks/MMWAVE_MiinStore/models'\n",
        "sample_path = './gdrive/MyDrive/Colab Notebooks/MMWAVE_MiinStore/samples'\n",
        "\n",
        "\n",
        "\n",
        "# Check if the folder exists and create it if it doesn't\n",
        "def ensure_directory_exists(path):\n",
        "    if not os.path.exists(path):\n",
        "        os.makedirs(path, exist_ok=True)\n",
        "\n",
        "ensure_directory_exists(model_path)\n",
        "ensure_directory_exists(sample_path)\n"
      ]
    },
    {
      "cell_type": "code",
      "execution_count": null,
      "metadata": {
        "id": "ayHZ6iTDNOuC"
      },
      "outputs": [],
      "source": [
        "dataset_path = sample_path + '/mmwave-30frame/'\n",
        "learning_rate = 1e-4          # 學習率 （可調整）\n",
        "lstm_hidden_size = 128       # LSTM 隱藏層大小 (可調整)\n",
        "lstm_num_layers = 2         # LSTM 深度 （可調整）\n",
        "fc_output_size = 5         # 最終輸出大小（8個分類）\n",
        "num_epochs = 20           # 訓練次數 （可調整）\n",
        "training_set = 0.8         # 訓練集比例  90% 剩下為驗證集 （可調整）\n",
        "my_batch_size = 16      # 批次大小\n",
        "augment_size = 9 #增強幾個資料\n",
        "# 要分類的標籤\n",
        "label_list = ['background', 'turn_left', 'turn_right', 'turn_up', 'turn_down']\n",
        "# 標籤對應字典\n",
        "label_map = {label: idx for idx, label in enumerate(label_list)}\n",
        "label_map_invert = {idx: label for idx, label in enumerate(label_list)}"
      ]
    },
    {
      "cell_type": "markdown",
      "metadata": {
        "id": "aGMq9O1kNOuD"
      },
      "source": [
        "# CUDA"
      ]
    },
    {
      "cell_type": "code",
      "execution_count": null,
      "metadata": {
        "id": "wHagjUTmNOuE"
      },
      "outputs": [],
      "source": [
        "device = torch.device('cuda:0' if torch.cuda.is_available() else 'cpu')"
      ]
    },
    {
      "cell_type": "markdown",
      "metadata": {
        "id": "47m3u0sHNOuF"
      },
      "source": [
        "# Other Function"
      ]
    },
    {
      "cell_type": "code",
      "execution_count": null,
      "metadata": {
        "id": "qc2qIhmgNOuF"
      },
      "outputs": [],
      "source": [
        "# 列出子資料夾\n",
        "def list_sub(directory_path):\n",
        "    all_items = os.listdir(directory_path)\n",
        "\n",
        "    subdirectories = [item for item in all_items if os.path.isdir(os.path.join(directory_path, item))]\n",
        "\n",
        "    return subdirectories\n",
        "\n",
        "# 列出所有 h5 的檔案\n",
        "def list_h5(directory_path):\n",
        "    all_files = os.listdir(directory_path)\n",
        "\n",
        "    h5_files = [f for f in all_files if f.endswith('.h5') and os.path.isfile(os.path.join(directory_path, f))]\n",
        "\n",
        "    return h5_files\n",
        "\n",
        "# 資料增強\n",
        "def translate_image(image, max_translate=2):\n",
        "    # 隨機選擇上下左右移動的像素數\n",
        "    dx = np.random.randint(-max_translate, max_translate + 1)\n",
        "    dy = np.random.randint(-max_translate, max_translate + 1)\n",
        "    return TF.affine(image, angle=0, translate=(dx, dy), scale=1, shear=0)\n",
        "\n",
        "# 噪聲\n",
        "def add_noise(image, mean=0, std=0.15):\n",
        "    # 生成高斯噪聲\n",
        "    noise = torch.randn(image.size()) * std + mean\n",
        "    # 加到圖像中\n",
        "    noisy_image = image + noise\n",
        "\n",
        "    return noisy_image\n",
        "\n",
        "# 每幀都要\n",
        "def augment_frame(frame, max_translate=2):\n",
        "    frame = translate_image(frame, max_translate)\n",
        "#     frame = add_noise(frame)\n",
        "    return frame\n",
        "\n",
        "# 對整個序列增強\n",
        "def augment_sequence(sequence):\n",
        "    augmented_sequence = []\n",
        "    # 對每幀增強\n",
        "    for i in range(sequence.shape[2]):\n",
        "        frame = sequence[:, :, i]\n",
        "        frame_tensor = torch.tensor(frame, dtype=torch.float32).unsqueeze(0)\n",
        "        augmented_frame = augment_frame(frame_tensor)\n",
        "        augmented_sequence.append(augmented_frame.squeeze(0))\n",
        "\n",
        "    # 增強完再疊回去\n",
        "    return torch.stack(augmented_sequence, dim=2)\n",
        "# 對整個序列增強\n",
        "def augment_sequence_back(sequence):\n",
        "    augmented_sequence = []\n",
        "    # 對每幀增強\n",
        "    for i in range(sequence.shape[2]):\n",
        "        frame = sequence[:, :, i]\n",
        "        frame_tensor = torch.tensor(frame, dtype=torch.float32).unsqueeze(0)\n",
        "        augmented_frame = augment_frame(frame_tensor)\n",
        "        augmented_frame = add_noise(augmented_frame)\n",
        "        augmented_sequence.append(augmented_frame.squeeze(0))\n",
        "\n",
        "    # 增強完再疊回去\n",
        "    return torch.stack(augmented_sequence, dim=2)\n",
        "# 對整個序列增強\n",
        "def augment_sequence_new(sequence):\n",
        "    augmented_sequence = []\n",
        "    # 對每幀增強\n",
        "    for i in range(sequence.shape[2]):\n",
        "        frame = sequence[:, :, i]\n",
        "        frame_tensor = torch.tensor(frame, dtype=torch.float32).unsqueeze(0)\n",
        "        augmented_frame = augment_frame(frame_tensor, max_translate=2)\n",
        "        augmented_sequence.append(augmented_frame.squeeze(0))\n",
        "\n",
        "    # 增強完再疊回去\n",
        "    return torch.stack(augmented_sequence, dim=2)\n"
      ]
    },
    {
      "cell_type": "markdown",
      "metadata": {
        "id": "tRZlR7wiNOuH"
      },
      "source": [
        "# Model"
      ]
    },
    {
      "cell_type": "code",
      "execution_count": null,
      "metadata": {
        "colab": {
          "base_uri": "https://localhost:8080/"
        },
        "id": "jjb13HscNOuH",
        "outputId": "6eafffa6-c7b4-41a0-aef8-c0c4469d58c2"
      },
      "outputs": [
        {
          "output_type": "stream",
          "name": "stdout",
          "text": [
            "ConvLSTMNet(\n",
            "  (conv): Sequential(\n",
            "    (0): Conv2d(1, 32, kernel_size=(3, 3), stride=(1, 1), padding=(1, 1))\n",
            "    (1): ReLU()\n",
            "    (2): Conv2d(32, 64, kernel_size=(3, 3), stride=(1, 1), padding=(1, 1))\n",
            "    (3): ReLU()\n",
            "    (4): MaxPool2d(kernel_size=2, stride=2, padding=0, dilation=1, ceil_mode=False)\n",
            "    (5): Conv2d(64, 128, kernel_size=(3, 3), stride=(1, 1), padding=(1, 1))\n",
            "    (6): ReLU()\n",
            "    (7): Conv2d(128, 256, kernel_size=(3, 3), stride=(1, 1), padding=(1, 1))\n",
            "    (8): ReLU()\n",
            "    (9): MaxPool2d(kernel_size=2, stride=2, padding=0, dilation=1, ceil_mode=False)\n",
            "    (10): Conv2d(256, 512, kernel_size=(3, 3), stride=(1, 1), padding=(1, 1))\n",
            "    (11): ReLU()\n",
            "    (12): MaxPool2d(kernel_size=2, stride=2, padding=0, dilation=1, ceil_mode=False)\n",
            "  )\n",
            "  (lstm): LSTM(16384, 128, num_layers=2, batch_first=True)\n",
            "  (fc): Linear(in_features=128, out_features=5, bias=True)\n",
            ")\n"
          ]
        }
      ],
      "source": [
        "class ConvLSTMNet(nn.Module):\n",
        "    def __init__(self, lstm_num_layers, lstm_hidden_size, fc_output_size):\n",
        "        super(ConvLSTMNet, self).__init__()\n",
        "\n",
        "        # 定義卷積層\n",
        "        # RDI & PHD 卷積\n",
        "        self.conv = nn.Sequential(\n",
        "            nn.Conv2d(in_channels=1, out_channels=32, kernel_size=3, padding=1),\n",
        "            nn.ReLU(),\n",
        "            nn.Conv2d(in_channels=32, out_channels=64, kernel_size=3, padding=1),\n",
        "            nn.ReLU(),\n",
        "            nn.MaxPool2d(kernel_size=2),  # 16x16 feature map\n",
        "\n",
        "            nn.Conv2d(in_channels=64, out_channels=128, kernel_size=3, padding=1),\n",
        "            nn.ReLU(),\n",
        "            nn.Conv2d(in_channels=128, out_channels=256, kernel_size=3, padding=1),\n",
        "            nn.ReLU(),\n",
        "            nn.MaxPool2d(kernel_size=2),  # 8x8 feature map\n",
        "\n",
        "            nn.Conv2d(in_channels=256, out_channels=512, kernel_size=3, padding=1),\n",
        "            nn.ReLU(),\n",
        "            nn.MaxPool2d(kernel_size=2)  # 4x4 feature map\n",
        "        )\n",
        "\n",
        "        # 計算卷積後輸出的特徵圖大小\n",
        "        # 最終大小為 4x4 , 然後有512個通道\n",
        "        self.flattened_size = 512 * 4 * 4\n",
        "\n",
        "        # 定義 LSTM 層\n",
        "        self.lstm = nn.LSTM(\n",
        "            input_size = self.flattened_size * 2,\n",
        "            hidden_size = lstm_hidden_size,\n",
        "            num_layers = lstm_num_layers,\n",
        "            batch_first = True\n",
        "        )\n",
        "\n",
        "        # 定義全連接層\n",
        "        self.fc = nn.Linear(lstm_hidden_size, fc_output_size)\n",
        "\n",
        "    def forward(self, rdi_map, phd_map):\n",
        "        # 批次大小,  幀數 , 32, 32\n",
        "        batch_size, timesteps, _, _ = rdi_map.size()\n",
        "\n",
        "        # 初始化 LSTM 隱藏狀態 並確保他的device跟輸入一樣\n",
        "        h0 = torch.zeros(lstm_num_layers, batch_size, lstm_hidden_size).to(rdi_map.device)\n",
        "        c0 = torch.zeros(lstm_num_layers, batch_size, lstm_hidden_size).to(rdi_map.device)\n",
        "\n",
        "        # 結合兩個Map的卷積結果\n",
        "        combined_features = []\n",
        "\n",
        "        for t in range(timesteps):\n",
        "            rdi_frame = rdi_map[:, t, :, :].unsqueeze(1)  # (batch_size, 1, 32, 32)\n",
        "            rdi_conv_output = self.conv(rdi_frame)  # (batch_size, 64, 8, 8)\n",
        "            rdi_conv_output = rdi_conv_output.view(batch_size, -1)  # 攤平 (batch_size, 64*8*8)\n",
        "\n",
        "            phd_frame = phd_map[:, t, :, :].unsqueeze(1)\n",
        "            phd_conv_output = self.conv(phd_frame)  # (batch_size, 64, 8, 8)\n",
        "            phd_conv_output = phd_conv_output.view(batch_size, -1)  # 展平 (batch_size, 64*8*8)\n",
        "\n",
        "            # 將兩個卷積輸出並在一起\n",
        "            combined_feature = torch.cat((rdi_conv_output, phd_conv_output), dim=1)  # (batch_size, flattened_size*2)\n",
        "            combined_features.append(combined_feature)\n",
        "\n",
        "        # 把所有時間點的特徵結合成一個序列 (batch_size, timesteps, flattened_size*2)\n",
        "        combined_features = torch.stack(combined_features, dim=1)\n",
        "\n",
        "        # 把特徵序列輸入到LSTM中\n",
        "        lstm_out, _ = self.lstm(combined_features, (h0, c0))\n",
        "\n",
        "        # 取 LSTM 最後的輸出\n",
        "        lstm_out_last = lstm_out[:, -1, :]\n",
        "\n",
        "\n",
        "        out = self.fc(lstm_out_last)\n",
        "\n",
        "        return out\n",
        "\n",
        "\n",
        "model = ConvLSTMNet(lstm_num_layers, lstm_hidden_size, fc_output_size)\n",
        "model.to(device)\n",
        "# 檢查模型結構\n",
        "print(model)\n"
      ]
    },
    {
      "cell_type": "code",
      "execution_count": null,
      "metadata": {
        "colab": {
          "base_uri": "https://localhost:8080/"
        },
        "id": "Vn92hDEBNOuI",
        "outputId": "94b4d067-c931-4874-e375-e8d8c8434ade"
      },
      "outputs": [
        {
          "output_type": "stream",
          "name": "stdout",
          "text": [
            "['turn_up', 'background', 'turn_down', 'turn_left', 'turn_right']\n",
            "['PatPat_0001_2025_05_19_15_50_33.h5', 'PatPat_0002_2025_05_19_15_50_38.h5', 'PatPat_0003_2025_05_19_15_50_42.h5', 'PatPat_0004_2025_05_19_15_50_45.h5', 'PatPat_0005_2025_05_19_15_50_49.h5', 'PatPat_0006_2025_05_19_15_50_53.h5', 'PatPat_0007_2025_05_19_15_50_56.h5', 'PatPat_0008_2025_05_19_15_51_00.h5', 'PatPat_0009_2025_05_19_15_51_03.h5', 'PatPat_0001_2025_05_19_15_51_28.h5', 'PatPat_0002_2025_05_19_15_51_32.h5', 'PatPat_0003_2025_05_19_15_51_35.h5', 'PatPat_0004_2025_05_19_15_51_39.h5', 'PatPat_0005_2025_05_19_15_51_42.h5', 'PatPat_0006_2025_05_19_15_51_45.h5', 'PatPat_0007_2025_05_19_15_51_55.h5', 'PatPat_0001_2025_05_19_15_52_48.h5', 'PatPat_0002_2025_05_19_15_52_52.h5', 'PatPat_0003_2025_05_19_15_52_55.h5', 'PatPat_0004_2025_05_19_15_52_58.h5']\n",
            "./gdrive/MyDrive/Colab Notebooks/MMWAVE_MiinStore/samples/mmwave-30frame/\n"
          ]
        }
      ],
      "source": [
        "print(list_sub(dataset_path))\n",
        "print(list_h5(dataset_path+list_sub(dataset_path)[4]))\n",
        "print(dataset_path)\n",
        "\n",
        "turn_right_path = dataset_path + 'turn_right/' # Assuming dataset_path is already defined\n",
        "\n"
      ]
    },
    {
      "cell_type": "markdown",
      "metadata": {
        "id": "nFGckCLBNOuI"
      },
      "source": [
        "# DataLoader"
      ]
    },
    {
      "cell_type": "code",
      "execution_count": null,
      "metadata": {
        "colab": {
          "base_uri": "https://localhost:8080/"
        },
        "id": "ECd31qCZNOuI",
        "outputId": "039ca032-0ec1-450b-904f-2fb7cd05324a"
      },
      "outputs": [
        {
          "output_type": "stream",
          "name": "stdout",
          "text": [
            "turn_up:開始生成\n",
            "turn_up 檔案數量: 20\n",
            "turn_up:生成結束\n",
            "跳過 background\n",
            "turn_down:開始生成\n",
            "turn_down 檔案數量: 20\n",
            "turn_down:生成結束\n",
            "turn_left:開始生成\n",
            "turn_left 檔案數量: 20\n",
            "turn_left:生成結束\n",
            "turn_right:開始生成\n",
            "turn_right 檔案數量: 20\n",
            "turn_right:生成結束\n",
            "981\n"
          ]
        }
      ],
      "source": [
        "class MMWaveDataset(Dataset):\n",
        "    def __init__(self, file_path, dataset_name):\n",
        "        self.dataItem = []\n",
        "\n",
        "        # For Background\n",
        "        with h5py.File(dataset_path + 'background/PatPat_0001_2025_05_19_15_07_23.h5', 'r') as file:\n",
        "            self.dataItem.append((file[dataset_name][0], file[dataset_name][1],'background'))\n",
        "            for augment_times in range(augment_size*20):\n",
        "                augmented_sequence_rdi = augment_sequence_back(file[dataset_name][0])\n",
        "                augmented_sequence_phd = augment_sequence_back(file[dataset_name][1])\n",
        "                self.dataItem.append((augmented_sequence_rdi, augmented_sequence_phd, 'background'))\n",
        "\n",
        "\n",
        "        # For Other gestures\n",
        "        for gesture_type in list_sub(dataset_path):\n",
        "            if gesture_type == 'background':\n",
        "                print('跳過 '+gesture_type)\n",
        "                continue\n",
        "            print(gesture_type+\":開始生成\")\n",
        "            h5_files = list_h5(dataset_path+gesture_type)\n",
        "            print(f\"{gesture_type} 檔案數量: {len(h5_files)}\")\n",
        "            for filename in h5_files:\n",
        "                with h5py.File(dataset_path + gesture_type + '/' + filename, 'r') as file:\n",
        "\n",
        "                    self.dataItem.append((file[dataset_name][0], file[dataset_name][1], gesture_type))\n",
        "                    augment_size_h = augment_size\n",
        "\n",
        "                    for augment_times in range(augment_size_h):\n",
        "                        augmented_sequence_rdi = augment_sequence(file[dataset_name][0])\n",
        "\n",
        "                        augmented_sequence_phd = augment_sequence(file[dataset_name][1])\n",
        "                        self.dataItem.append((augmented_sequence_rdi, augmented_sequence_phd, gesture_type))\n",
        "            print(gesture_type+\":生成結束\")\n",
        "\n",
        "    def __len__(self):\n",
        "        return len(self.dataItem)\n",
        "\n",
        "    def __getitem__(self, idx):\n",
        "        rdi_map = self.dataItem[idx][0]\n",
        "        phd_map = self.dataItem[idx][1]\n",
        "        target   = self.dataItem[idx][2]\n",
        "        target = label_map[target]\n",
        "\n",
        "        if isinstance(rdi_map, torch.Tensor):\n",
        "            rdi_map = rdi_map.clone().detach().permute(2, 0, 1).to(device)\n",
        "        else:\n",
        "            rdi_map = torch.tensor(rdi_map, dtype=torch.float32).permute(2, 0, 1).to(device)\n",
        "\n",
        "        if isinstance(phd_map, torch.Tensor):\n",
        "            phd_map = phd_map.clone().detach().permute(2, 0, 1).to(device)\n",
        "        else:\n",
        "            phd_map = torch.tensor(phd_map, dtype=torch.float32).permute(2, 0, 1).to(device)\n",
        "\n",
        "        target = torch.tensor(target, dtype=torch.long).to(device)\n",
        "        return rdi_map, phd_map, target\n",
        "\n",
        "\n",
        "dataset = MMWaveDataset(dataset_path, 'DS1')\n",
        "\n",
        "dataset_size = len(dataset)\n",
        "train_size = int(training_set* dataset_size)\n",
        "val_size = dataset_size - train_size\n",
        "print(dataset_size)\n",
        "# 分割訓練和驗證集\n",
        "train_dataset, val_dataset = random_split(dataset, [train_size, val_size])\n",
        "\n",
        "train_loader = DataLoader(train_dataset, batch_size=my_batch_size, shuffle=True)\n",
        "val_loader = DataLoader(val_dataset, batch_size=my_batch_size, shuffle=False)"
      ]
    },
    {
      "cell_type": "markdown",
      "metadata": {
        "id": "myu07jA0NOuJ"
      },
      "source": [
        "# Loss Function & Optimizer"
      ]
    },
    {
      "cell_type": "code",
      "execution_count": null,
      "metadata": {
        "id": "vzJtxSnhNOuJ"
      },
      "outputs": [],
      "source": [
        "criterion = nn.CrossEntropyLoss()\n",
        "optimizer = optim.Adam(model.parameters(), lr=learning_rate)"
      ]
    },
    {
      "cell_type": "markdown",
      "metadata": {
        "id": "EICTPeFfNOuK"
      },
      "source": [
        "# Training"
      ]
    },
    {
      "cell_type": "code",
      "execution_count": null,
      "metadata": {
        "colab": {
          "base_uri": "https://localhost:8080/"
        },
        "id": "zRk0YTeyNOuK",
        "outputId": "a90708d4-3aee-4756-bbfd-97c8cdacda5f"
      },
      "outputs": [
        {
          "metadata": {
            "tags": null
          },
          "name": "stderr",
          "output_type": "stream",
          "text": [
            "Epoch [1/20]: 100%|██████████| 49/49 [00:12<00:00,  3.81batch/s]\n"
          ]
        },
        {
          "metadata": {
            "tags": null
          },
          "name": "stdout",
          "output_type": "stream",
          "text": [
            "Epoch [1/20]\n",
            "Train Loss: 1.0701, Train Accuracy: 85.71%, Train F1-Score: 0.8592\n",
            "Validation Loss: 0.6558, Validation Accuracy: 94.42%, Validation F1-Score: 0.9437\n"
          ]
        },
        {
          "metadata": {
            "tags": null
          },
          "name": "stderr",
          "output_type": "stream",
          "text": [
            "Epoch [2/20]: 100%|██████████| 49/49 [00:13<00:00,  3.72batch/s]\n"
          ]
        },
        {
          "metadata": {
            "tags": null
          },
          "name": "stdout",
          "output_type": "stream",
          "text": [
            "Epoch [2/20]\n",
            "Train Loss: 0.3968, Train Accuracy: 99.36%, Train F1-Score: 0.9936\n",
            "Validation Loss: 0.1994, Validation Accuracy: 100.00%, Validation F1-Score: 1.0000\n"
          ]
        },
        {
          "metadata": {
            "tags": null
          },
          "name": "stderr",
          "output_type": "stream",
          "text": [
            "Epoch [3/20]: 100%|██████████| 49/49 [00:12<00:00,  3.80batch/s]\n"
          ]
        },
        {
          "metadata": {
            "tags": null
          },
          "name": "stdout",
          "output_type": "stream",
          "text": [
            "Epoch [3/20]\n",
            "Train Loss: 0.1140, Train Accuracy: 100.00%, Train F1-Score: 1.0000\n",
            "Validation Loss: 0.0638, Validation Accuracy: 100.00%, Validation F1-Score: 1.0000\n"
          ]
        },
        {
          "metadata": {
            "tags": null
          },
          "name": "stderr",
          "output_type": "stream",
          "text": [
            "Epoch [4/20]: 100%|██████████| 49/49 [00:12<00:00,  3.89batch/s]\n"
          ]
        },
        {
          "metadata": {
            "tags": null
          },
          "name": "stdout",
          "output_type": "stream",
          "text": [
            "Epoch [4/20]\n",
            "Train Loss: 0.0473, Train Accuracy: 100.00%, Train F1-Score: 1.0000\n",
            "Validation Loss: 0.0337, Validation Accuracy: 100.00%, Validation F1-Score: 1.0000\n"
          ]
        },
        {
          "metadata": {
            "tags": null
          },
          "name": "stderr",
          "output_type": "stream",
          "text": [
            "Epoch [5/20]: 100%|██████████| 49/49 [00:12<00:00,  3.93batch/s]\n"
          ]
        },
        {
          "metadata": {
            "tags": null
          },
          "name": "stdout",
          "output_type": "stream",
          "text": [
            "Epoch [5/20]\n",
            "Train Loss: 0.0273, Train Accuracy: 100.00%, Train F1-Score: 1.0000\n",
            "Validation Loss: 0.0218, Validation Accuracy: 100.00%, Validation F1-Score: 1.0000\n"
          ]
        },
        {
          "metadata": {
            "tags": null
          },
          "name": "stderr",
          "output_type": "stream",
          "text": [
            "Epoch [6/20]: 100%|██████████| 49/49 [00:12<00:00,  3.93batch/s]\n"
          ]
        },
        {
          "metadata": {
            "tags": null
          },
          "name": "stdout",
          "output_type": "stream",
          "text": [
            "Epoch [6/20]\n",
            "Train Loss: 0.0181, Train Accuracy: 100.00%, Train F1-Score: 1.0000\n",
            "Validation Loss: 0.0153, Validation Accuracy: 100.00%, Validation F1-Score: 1.0000\n"
          ]
        },
        {
          "metadata": {
            "tags": null
          },
          "name": "stderr",
          "output_type": "stream",
          "text": [
            "Epoch [7/20]: 100%|██████████| 49/49 [00:12<00:00,  3.92batch/s]\n"
          ]
        },
        {
          "metadata": {
            "tags": null
          },
          "name": "stdout",
          "output_type": "stream",
          "text": [
            "Epoch [7/20]\n",
            "Train Loss: 0.0134, Train Accuracy: 100.00%, Train F1-Score: 1.0000\n",
            "Validation Loss: 0.0120, Validation Accuracy: 100.00%, Validation F1-Score: 1.0000\n"
          ]
        },
        {
          "metadata": {
            "tags": null
          },
          "name": "stderr",
          "output_type": "stream",
          "text": [
            "Epoch [8/20]: 100%|██████████| 49/49 [00:12<00:00,  3.85batch/s]\n"
          ]
        },
        {
          "metadata": {
            "tags": null
          },
          "name": "stdout",
          "output_type": "stream",
          "text": [
            "Epoch [8/20]\n",
            "Train Loss: 0.0106, Train Accuracy: 100.00%, Train F1-Score: 1.0000\n",
            "Validation Loss: 0.0096, Validation Accuracy: 100.00%, Validation F1-Score: 1.0000\n"
          ]
        },
        {
          "metadata": {
            "tags": null
          },
          "name": "stderr",
          "output_type": "stream",
          "text": [
            "Epoch [9/20]: 100%|██████████| 49/49 [00:12<00:00,  3.86batch/s]\n"
          ]
        },
        {
          "metadata": {
            "tags": null
          },
          "name": "stdout",
          "output_type": "stream",
          "text": [
            "Epoch [9/20]\n",
            "Train Loss: 0.0087, Train Accuracy: 100.00%, Train F1-Score: 1.0000\n",
            "Validation Loss: 0.0081, Validation Accuracy: 100.00%, Validation F1-Score: 1.0000\n"
          ]
        },
        {
          "metadata": {
            "tags": null
          },
          "name": "stderr",
          "output_type": "stream",
          "text": [
            "Epoch [10/20]: 100%|██████████| 49/49 [00:12<00:00,  3.88batch/s]\n"
          ]
        },
        {
          "metadata": {
            "tags": null
          },
          "name": "stdout",
          "output_type": "stream",
          "text": [
            "Epoch [10/20]\n",
            "Train Loss: 0.0073, Train Accuracy: 100.00%, Train F1-Score: 1.0000\n",
            "Validation Loss: 0.0068, Validation Accuracy: 100.00%, Validation F1-Score: 1.0000\n"
          ]
        },
        {
          "metadata": {
            "tags": null
          },
          "name": "stderr",
          "output_type": "stream",
          "text": [
            "Epoch [11/20]: 100%|██████████| 49/49 [00:12<00:00,  3.88batch/s]\n"
          ]
        },
        {
          "output_type": "stream",
          "name": "stdout",
          "text": [
            "Epoch [11/20]\n",
            "Train Loss: 0.0063, Train Accuracy: 100.00%, Train F1-Score: 1.0000\n",
            "Validation Loss: 0.0059, Validation Accuracy: 100.00%, Validation F1-Score: 1.0000\n"
          ]
        },
        {
          "output_type": "stream",
          "name": "stderr",
          "text": [
            "Epoch [12/20]: 100%|██████████| 49/49 [00:12<00:00,  3.88batch/s]\n"
          ]
        },
        {
          "output_type": "stream",
          "name": "stdout",
          "text": [
            "Epoch [12/20]\n",
            "Train Loss: 0.0054, Train Accuracy: 100.00%, Train F1-Score: 1.0000\n",
            "Validation Loss: 0.0052, Validation Accuracy: 100.00%, Validation F1-Score: 1.0000\n"
          ]
        },
        {
          "output_type": "stream",
          "name": "stderr",
          "text": [
            "Epoch [13/20]: 100%|██████████| 49/49 [00:12<00:00,  3.88batch/s]\n"
          ]
        },
        {
          "output_type": "stream",
          "name": "stdout",
          "text": [
            "Epoch [13/20]\n",
            "Train Loss: 0.0048, Train Accuracy: 100.00%, Train F1-Score: 1.0000\n",
            "Validation Loss: 0.0050, Validation Accuracy: 100.00%, Validation F1-Score: 1.0000\n"
          ]
        },
        {
          "output_type": "stream",
          "name": "stderr",
          "text": [
            "Epoch [14/20]: 100%|██████████| 49/49 [00:12<00:00,  3.89batch/s]\n"
          ]
        },
        {
          "output_type": "stream",
          "name": "stdout",
          "text": [
            "Epoch [14/20]\n",
            "Train Loss: 0.0043, Train Accuracy: 100.00%, Train F1-Score: 1.0000\n",
            "Validation Loss: 0.0041, Validation Accuracy: 100.00%, Validation F1-Score: 1.0000\n"
          ]
        },
        {
          "output_type": "stream",
          "name": "stderr",
          "text": [
            "Epoch [15/20]: 100%|██████████| 49/49 [00:12<00:00,  3.89batch/s]\n"
          ]
        },
        {
          "output_type": "stream",
          "name": "stdout",
          "text": [
            "Epoch [15/20]\n",
            "Train Loss: 0.0038, Train Accuracy: 100.00%, Train F1-Score: 1.0000\n",
            "Validation Loss: 0.0037, Validation Accuracy: 100.00%, Validation F1-Score: 1.0000\n"
          ]
        },
        {
          "output_type": "stream",
          "name": "stderr",
          "text": [
            "Epoch [16/20]: 100%|██████████| 49/49 [00:12<00:00,  3.89batch/s]\n"
          ]
        },
        {
          "output_type": "stream",
          "name": "stdout",
          "text": [
            "Epoch [16/20]\n",
            "Train Loss: 0.0035, Train Accuracy: 100.00%, Train F1-Score: 1.0000\n",
            "Validation Loss: 0.0034, Validation Accuracy: 100.00%, Validation F1-Score: 1.0000\n"
          ]
        },
        {
          "output_type": "stream",
          "name": "stderr",
          "text": [
            "Epoch [17/20]: 100%|██████████| 49/49 [00:12<00:00,  3.89batch/s]\n"
          ]
        },
        {
          "output_type": "stream",
          "name": "stdout",
          "text": [
            "Epoch [17/20]\n",
            "Train Loss: 0.0032, Train Accuracy: 100.00%, Train F1-Score: 1.0000\n",
            "Validation Loss: 0.0030, Validation Accuracy: 100.00%, Validation F1-Score: 1.0000\n"
          ]
        },
        {
          "output_type": "stream",
          "name": "stderr",
          "text": [
            "Epoch [18/20]: 100%|██████████| 49/49 [00:12<00:00,  3.88batch/s]\n"
          ]
        },
        {
          "output_type": "stream",
          "name": "stdout",
          "text": [
            "Epoch [18/20]\n",
            "Train Loss: 0.0029, Train Accuracy: 100.00%, Train F1-Score: 1.0000\n",
            "Validation Loss: 0.0028, Validation Accuracy: 100.00%, Validation F1-Score: 1.0000\n"
          ]
        },
        {
          "output_type": "stream",
          "name": "stderr",
          "text": [
            "Epoch [19/20]: 100%|██████████| 49/49 [00:12<00:00,  3.89batch/s]\n"
          ]
        },
        {
          "output_type": "stream",
          "name": "stdout",
          "text": [
            "Epoch [19/20]\n",
            "Train Loss: 0.0027, Train Accuracy: 100.00%, Train F1-Score: 1.0000\n",
            "Validation Loss: 0.0026, Validation Accuracy: 100.00%, Validation F1-Score: 1.0000\n"
          ]
        },
        {
          "output_type": "stream",
          "name": "stderr",
          "text": [
            "Epoch [20/20]: 100%|██████████| 49/49 [00:12<00:00,  3.88batch/s]\n"
          ]
        },
        {
          "output_type": "stream",
          "name": "stdout",
          "text": [
            "Epoch [20/20]\n",
            "Train Loss: 0.0025, Train Accuracy: 100.00%, Train F1-Score: 1.0000\n",
            "Validation Loss: 0.0024, Validation Accuracy: 100.00%, Validation F1-Score: 1.0000\n",
            "Training complete\n"
          ]
        }
      ],
      "source": [
        "train_losses = []\n",
        "train_accuracies = []\n",
        "val_losses = []\n",
        "val_accuracies = []\n",
        "train_f1_scores = []\n",
        "val_f1_scores = []\n",
        "\n",
        "for epoch in range(num_epochs):\n",
        "\n",
        "    # 訓練部份\n",
        "    model.train()\n",
        "    running_loss = 0.0\n",
        "    correct_predictions = 0\n",
        "    total_samples = 0\n",
        "    all_train_targets = []\n",
        "    all_train_predictions = []\n",
        "\n",
        "    for rdi_map, phd_map, targets in tqdm(train_loader, desc=f'Epoch [{epoch+1}/{num_epochs}]', unit='batch'):\n",
        "\n",
        "        outputs = model(rdi_map, phd_map)\n",
        "\n",
        "        _, predicted_classes = torch.max(outputs, 1)\n",
        "\n",
        "        all_train_targets.extend(targets.cpu().numpy())\n",
        "        all_train_predictions.extend(predicted_classes.cpu().numpy())\n",
        "\n",
        "\n",
        "        correct_predictions += (predicted_classes == targets).sum().item()\n",
        "        total_samples += targets.size(0)\n",
        "\n",
        "        loss = criterion(outputs, targets)\n",
        "\n",
        "        optimizer.zero_grad()\n",
        "        loss.backward()\n",
        "        optimizer.step()\n",
        "\n",
        "        running_loss += loss.item()\n",
        "\n",
        "    train_loss = running_loss/len(train_loader)\n",
        "    train_accuracy = correct_predictions / total_samples * 100\n",
        "    train_f1 = f1_score(all_train_targets, all_train_predictions, average='weighted')\n",
        "\n",
        "    train_losses.append(train_loss)\n",
        "    train_accuracies.append(train_accuracy)\n",
        "    train_f1_scores.append(train_f1)\n",
        "\n",
        "    # 驗證部份\n",
        "    model.eval()\n",
        "    val_running_loss = 0.0\n",
        "    val_correct_predictions = 0\n",
        "    val_total_samples = 0\n",
        "    all_val_targets = []\n",
        "    all_val_predictions = []\n",
        "\n",
        "    with torch.no_grad():\n",
        "        for rdi_map, phd_map, targets in val_loader:\n",
        "            outputs = model(rdi_map, phd_map)\n",
        "\n",
        "            _, predicted_classes = torch.max(outputs, 1)\n",
        "\n",
        "            all_val_targets.extend(targets.cpu().numpy())\n",
        "            all_val_predictions.extend(predicted_classes.cpu().numpy())\n",
        "\n",
        "            val_correct_predictions += (predicted_classes == targets).sum().item()\n",
        "            val_total_samples += targets.size(0)\n",
        "\n",
        "            loss = criterion(outputs, targets)\n",
        "\n",
        "            val_running_loss += loss.item()\n",
        "\n",
        "    val_loss = val_running_loss / len(val_loader)\n",
        "    val_accuracy = val_correct_predictions / val_total_samples * 100\n",
        "    val_f1 = f1_score(all_val_targets, all_val_predictions, average='weighted')\n",
        "\n",
        "    val_losses.append(val_loss)\n",
        "    val_accuracies.append(val_accuracy)\n",
        "    val_f1_scores.append(val_f1)\n",
        "\n",
        "\n",
        "    print(f'Epoch [{epoch+1}/{num_epochs}]')\n",
        "    print(f'Train Loss: {train_loss:.4f}, Train Accuracy: {train_accuracy:.2f}%, Train F1-Score: {train_f1:.4f}')\n",
        "    print(f'Validation Loss: {val_loss:.4f}, Validation Accuracy: {val_accuracy:.2f}%, Validation F1-Score: {val_f1:.4f}')\n",
        "\n",
        "\n",
        "print(\"Training complete\")\n"
      ]
    },
    {
      "cell_type": "markdown",
      "metadata": {
        "id": "Dq3935SBNOuK"
      },
      "source": [
        "# Plot"
      ]
    },
    {
      "cell_type": "code",
      "execution_count": null,
      "metadata": {
        "colab": {
          "base_uri": "https://localhost:8080/",
          "height": 607
        },
        "id": "SYookuvlNOuK",
        "outputId": "ffeb8f42-5b1c-4fea-882e-f058613dba7c"
      },
      "outputs": [
        {
          "output_type": "display_data",
          "data": {
            "text/plain": [
              "<Figure size 1800x600 with 3 Axes>"
            ],
            "image/png": "[encoded data removed]"
          },
          "metadata": {}
        }
      ],
      "source": [
        "epochs = range(1, num_epochs + 1)\n",
        "\n",
        "plt.figure(figsize=(18, 6))\n",
        "\n",
        "# Loss Graph\n",
        "plt.subplot(1, 3, 1)\n",
        "plt.plot(epochs, train_losses, 'bo-', label='Train Loss')\n",
        "plt.plot(epochs, val_losses, 'ro-', label='Validation Loss')\n",
        "plt.xlabel('Epoch')\n",
        "plt.ylabel('Loss')\n",
        "plt.title('Training and Validation Loss')\n",
        "plt.legend()\n",
        "plt.grid(True)\n",
        "\n",
        "# Accuracy Graph\n",
        "plt.subplot(1, 3, 2)\n",
        "plt.plot(epochs, train_accuracies, 'bo-', label='Train Accuracy')\n",
        "plt.plot(epochs, val_accuracies, 'ro-', label='Validation Accuracy')\n",
        "plt.xlabel('Epoch')\n",
        "plt.ylabel('Accuracy (%)')\n",
        "plt.title('Training and Validation Accuracy')\n",
        "plt.legend()\n",
        "plt.grid(True)\n",
        "\n",
        "# F1-Score\n",
        "plt.subplot(1, 3, 3)\n",
        "plt.plot(epochs, train_f1_scores, 'bo-', label='Train F1-Score')\n",
        "plt.plot(epochs, val_f1_scores, 'ro-', label='Validation F1-Score')\n",
        "plt.xlabel('Epoch')\n",
        "plt.ylabel('F1-Score')\n",
        "plt.title('Training and Validation F1-Score')\n",
        "plt.legend()\n",
        "plt.grid(True)\n",
        "\n",
        "plt.tight_layout()\n",
        "plt.show()\n"
      ]
    },
    {
      "cell_type": "markdown",
      "metadata": {
        "id": "2q-OUfkFNOuL"
      },
      "source": [
        "# Model Output (輸出訓練完成的模型)"
      ]
    },
    {
      "cell_type": "code",
      "execution_count": null,
      "metadata": {
        "id": "d88sKn2uNOuL"
      },
      "outputs": [],
      "source": [
        "model_name = \"/mmwave_model_v10_6.pth\"\n",
        "torch.save(model, model_path + model_name)"
      ]
    }
  ],
  "metadata": {
    "accelerator": "GPU",
    "colab": {
      "gpuType": "T4",
      "provenance": []
    },
    "kaggle": {
      "accelerator": "none",
      "dataSources": [
        {
          "datasetId": 5586928,
          "sourceId": 9236622,
          "sourceType": "datasetVersion"
        },
        {
          "datasetId": 5587041,
          "sourceId": 9236774,
          "sourceType": "datasetVersion"
        },
        {
          "datasetId": 5587330,
          "sourceId": 9237196,
          "sourceType": "datasetVersion"
        },
        {
          "datasetId": 7129796,
          "sourceId": 11386096,
          "sourceType": "datasetVersion"
        },
        {
          "datasetId": 7129917,
          "sourceId": 11386249,
          "sourceType": "datasetVersion"
        },
        {
          "datasetId": 7272916,
          "sourceId": 11597390,
          "sourceType": "datasetVersion"
        }
      ],
      "dockerImageVersionId": 31012,
      "isGpuEnabled": false,
      "isInternetEnabled": false,
      "language": "python",
      "sourceType": "notebook"
    },
    "kernelspec": {
      "display_name": "Python 3",
      "name": "python3"
    },
    "language_info": {
      "codemirror_mode": {
        "name": "ipython",
        "version": 3
      },
      "file_extension": ".py",
      "mimetype": "text/x-python",
      "name": "python",
      "nbconvert_exporter": "python",
      "pygments_lexer": "ipython3",
      "version": "3.11.11"
    }
  },
  "nbformat": 4,
  "nbformat_minor": 0
}